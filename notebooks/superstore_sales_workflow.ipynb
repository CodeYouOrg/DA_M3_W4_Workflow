{
  "cells": [
    {
      "cell_type": "markdown",
      "metadata": {},
      "source": [
        "# Superstore Sales Workflow Tutorial\n",
        "\n",
        "This notebook walks through cleaning the Superstore dataset, designing a relational structure, creating an SQLite database, and running example SQL queries and visualizations."
      ]
    },
    {
      "cell_type": "code",
      "execution_count": null,
      "metadata": {},
      "outputs": [],
      "source": [
        "import pandas as pd\n",
        "import sqlite3\n",
        "import matplotlib.pyplot as plt\n",
        "import seaborn as sns\n",
        "import matplotlib.ticker as mticker\n"
      ]
    },
    {
      "cell_type": "markdown",
      "metadata": {},
      "source": [
        "## 1️) Load and Inspect the Dataset"
      ]
    },
    {
      "cell_type": "code",
      "execution_count": null,
      "metadata": {},
      "outputs": [],
      "source": [
        "# reading error codes + research is how you can learn if there is different encoding, as seen below\n",
        "df = pd.read_csv('../data/Superstore.csv', encoding='ISO-8859-1')\n",
        "df.head()"
      ]
    },
    {
      "cell_type": "markdown",
      "id": "856cd0c4",
      "metadata": {},
      "source": [
        "### Double check some datatypes, and for nulls and duplicates:"
      ]
    },
    {
      "cell_type": "code",
      "execution_count": null,
      "metadata": {},
      "outputs": [],
      "source": [
        "df.info()"
      ]
    },
    {
      "cell_type": "code",
      "execution_count": null,
      "id": "d26cc872",
      "metadata": {},
      "outputs": [],
      "source": [
        "df.duplicated().sum()"
      ]
    },
    {
      "cell_type": "code",
      "execution_count": null,
      "id": "d8b6be96",
      "metadata": {},
      "outputs": [],
      "source": [
        "df.isnull().sum()"
      ]
    },
    {
      "cell_type": "markdown",
      "id": "15a520b3",
      "metadata": {},
      "source": [
        "This data is incredibly clean - we can see there are no null values and no duplicates. However, there are some dates that could be saved in a better format."
      ]
    },
    {
      "cell_type": "markdown",
      "metadata": {},
      "source": [
        "## 2) Data Cleaning"
      ]
    },
    {
      "cell_type": "code",
      "execution_count": null,
      "metadata": {},
      "outputs": [],
      "source": [
        "df['Order Date'] = pd.to_datetime(df['Order Date'], dayfirst=True)\n",
        "df['Ship Date'] = pd.to_datetime(df['Ship Date'], dayfirst=True)"
      ]
    },
    {
      "cell_type": "code",
      "execution_count": null,
      "id": "44108db3",
      "metadata": {},
      "outputs": [],
      "source": [
        "df.dtypes"
      ]
    },
    {
      "cell_type": "code",
      "execution_count": null,
      "id": "8a7388c1",
      "metadata": {},
      "outputs": [],
      "source": [
        "df.Segment.unique()"
      ]
    },
    {
      "cell_type": "code",
      "execution_count": null,
      "id": "e0defb73",
      "metadata": {},
      "outputs": [],
      "source": [
        "df.rename(columns={\"Segment\":\"customer_category\"}, inplace=True)\n",
        "df.head()"
      ]
    },
    {
      "cell_type": "markdown",
      "id": "efdd1bb7",
      "metadata": {},
      "source": [
        "With real data, it is very likely more cleaning and wrangling would be required. "
      ]
    },
    {
      "cell_type": "markdown",
      "metadata": {},
      "source": [
        "## 3) Build Relational Tables"
      ]
    },
    {
      "cell_type": "code",
      "execution_count": null,
      "metadata": {},
      "outputs": [],
      "source": [
        "conn = sqlite3.connect('data/superstore.db')\n",
        "\n",
        "customers_df = df[['Customer ID','Customer Name','customer_category','City','State','Region']].drop_duplicates().rename(columns={\n",
        "    'Customer ID':'customer_id',\n",
        "    'Customer Name':'customer_name',\n",
        "    'City':'city',\n",
        "    'State':'state',\n",
        "    'Region':'region'\n",
        "})\n",
        "\n",
        "products_df = df[['Product ID','Category','Sub-Category','Product Name']].drop_duplicates().rename(columns={\n",
        "    'Product ID':'product_id',\n",
        "    'Category':'category',\n",
        "    'Sub-Category':'subcategory',\n",
        "    'Product Name':'product_name'\n",
        "})\n",
        "\n",
        "orders_df = df[['Order ID','Order Date','Ship Date','Ship Mode','Customer ID']].drop_duplicates().rename(columns={\n",
        "    'Order ID':'order_id',\n",
        "    'Order Date':'order_date',\n",
        "    'Ship Date':'ship_date',\n",
        "    'Ship Mode':'ship_mode',\n",
        "    'Customer ID':'customer_id'\n",
        "})\n",
        "\n",
        "order_details_df = df[['Order ID','Product ID','Sales','Quantity','Discount','Profit']].rename(columns={\n",
        "    'Order ID':'order_id',\n",
        "    'Product ID':'product_id'\n",
        "})\n",
        "\n",
        "customers_df.to_sql('customers', conn, index=False, if_exists='replace')\n",
        "products_df.to_sql('products', conn, index=False, if_exists='replace')\n",
        "orders_df.to_sql('orders', conn, index=False, if_exists='replace')\n",
        "order_details_df.to_sql('order_details', conn, index=False, if_exists='replace')\n",
        "conn.commit()"
      ]
    },
    {
      "cell_type": "markdown",
      "metadata": {},
      "source": [
        "## 4) Make Some Queries!"
      ]
    },
    {
      "cell_type": "markdown",
      "id": "9c43f98a",
      "metadata": {},
      "source": [
        "### Which customer segments bring in the most revenue and profit?"
      ]
    },
    {
      "cell_type": "code",
      "execution_count": null,
      "id": "642cb2ff",
      "metadata": {},
      "outputs": [],
      "source": [
        "query1 = \"\"\" SELECT \n",
        "    c.customer_category,\n",
        "    ROUND(SUM(od.sales), 2) AS total_sales,\n",
        "    ROUND(SUM(od.profit), 2) AS total_profit\n",
        "FROM order_details od\n",
        "JOIN orders o ON od.order_id = o.order_id\n",
        "JOIN customers c ON o.customer_id = c.customer_id\n",
        "GROUP BY c.customer_category\n",
        "ORDER BY total_sales DESC;\n",
        "\"\"\"\n",
        "result1 = pd.read_sql(query1, conn)\n",
        "result1"
      ]
    },
    {
      "cell_type": "markdown",
      "id": "345a6a86",
      "metadata": {},
      "source": [
        "### What are the top 10 customers by total sales?"
      ]
    },
    {
      "cell_type": "code",
      "execution_count": null,
      "id": "73c52cc2",
      "metadata": {},
      "outputs": [],
      "source": [
        "query2 = \"\"\" Your code here! \"\"\"\n",
        "result2 = pd.read_sql(query2, conn)\n",
        "result2"
      ]
    },
    {
      "cell_type": "markdown",
      "id": "4fb5c010",
      "metadata": {},
      "source": [
        "### Which product categories and subcategories are the most profitable overall?"
      ]
    },
    {
      "cell_type": "code",
      "execution_count": null,
      "id": "b04efd3c",
      "metadata": {},
      "outputs": [],
      "source": [
        "query3 = \"\"\" Your code here! \"\"\"\n",
        "result3 = pd.read_sql(query3, conn)\n",
        "result3"
      ]
    },
    {
      "cell_type": "markdown",
      "id": "b1d63547",
      "metadata": {},
      "source": [
        "### What is the average discount given per category?"
      ]
    },
    {
      "cell_type": "code",
      "execution_count": null,
      "id": "08c9c82e",
      "metadata": {},
      "outputs": [],
      "source": [
        "query4 = \"\"\" Your code here! \"\"\"\n",
        "result4 = pd.read_sql(query4, conn)\n",
        "result4"
      ]
    },
    {
      "cell_type": "markdown",
      "id": "bb566a9c",
      "metadata": {},
      "source": [
        "### Which states or regions contribute the most to total sales?"
      ]
    },
    {
      "cell_type": "code",
      "execution_count": null,
      "id": "1cc1c5c3",
      "metadata": {},
      "outputs": [],
      "source": [
        "query5 = \"\"\" Your code here! \"\"\"\n",
        "result5 = pd.read_sql(query5, conn)\n",
        "result5"
      ]
    },
    {
      "cell_type": "markdown",
      "id": "9054ab03",
      "metadata": {},
      "source": [
        "### How many orders were shipped late (where Ship Date > Order Date + 3 days)?"
      ]
    },
    {
      "cell_type": "code",
      "execution_count": null,
      "id": "88e6be99",
      "metadata": {},
      "outputs": [],
      "source": [
        "query6 = \"\"\" Your code here! \"\"\"\n",
        "result6 = pd.read_sql(query6, conn)\n",
        "result6"
      ]
    },
    {
      "cell_type": "markdown",
      "id": "303521d0",
      "metadata": {},
      "source": [
        "### Which month or year had the highest total sales?"
      ]
    },
    {
      "cell_type": "code",
      "execution_count": null,
      "id": "6c2cfa60",
      "metadata": {},
      "outputs": [],
      "source": [
        "query7 = \"\"\" Your code here! \"\"\"\n",
        "result7 = pd.read_sql(query7, conn)\n",
        "result7"
      ]
    },
    {
      "cell_type": "markdown",
      "id": "33bbedf4",
      "metadata": {},
      "source": [
        "### What are the most frequently ordered products?"
      ]
    },
    {
      "cell_type": "code",
      "execution_count": null,
      "id": "6a1f3f4a",
      "metadata": {},
      "outputs": [],
      "source": [
        "query8 = \"\"\" Your code here! \"\"\"\n",
        "result8 = pd.read_sql(query8, conn)\n",
        "result8"
      ]
    },
    {
      "cell_type": "markdown",
      "id": "e0e71242",
      "metadata": {},
      "source": [
        "### Which customers placed more than 5 orders total?"
      ]
    },
    {
      "cell_type": "code",
      "execution_count": null,
      "id": "75085cb6",
      "metadata": {},
      "outputs": [],
      "source": [
        "query9 = \"\"\" Your code here! \"\"\"\n",
        "result9 = pd.read_sql(query9, conn)\n",
        "result9"
      ]
    },
    {
      "cell_type": "markdown",
      "id": "60e76b8e",
      "metadata": {},
      "source": [
        "### What’s the profit margin (profit ÷ sales) by category or segment?"
      ]
    },
    {
      "cell_type": "code",
      "execution_count": null,
      "metadata": {},
      "outputs": [],
      "source": [
        "query10 = \"\"\" Your code here! \"\"\"\n",
        "result10 = pd.read_sql(query10, conn)\n",
        "result10"
      ]
    },
    {
      "cell_type": "markdown",
      "metadata": {},
      "source": [
        "### 5) Visualize it!\n",
        "\n",
        "From your ten results, select at least 4 to utilize in a meaningful visualization. "
      ]
    },
    {
      "cell_type": "code",
      "execution_count": null,
      "id": "90a32f14",
      "metadata": {},
      "outputs": [],
      "source": [
        "# example using result1\n",
        "plt.figure(figsize=(10,6))\n",
        "colors = [\"#a7adaa\", \"#a7adaa\", \"#f74141\" ]\n",
        "sns.barplot(result1, x='customer_category', y='total_sales', palette=colors, hue='customer_category', legend=False)\n",
        "plt.title('Small Offices, Smaller Sales: The Home Office Gap',fontsize=18)\n",
        "plt.xlabel(None)\n",
        "plt.ylabel('Total Sales ($USD)')\n",
        "\n",
        "#for those wondering how to get rid of scientific notation! Set style to plain:\n",
        "plt.ticklabel_format(style='plain', axis='y')\n",
        "\n",
        "#mticker is a great library for helping tick mark formatting, such as adding commas and dollar signs in this case\n",
        "ax = plt.gca()\n",
        "ax.yaxis.set_major_formatter(mticker.FuncFormatter(lambda x, _: f'${x:,.0f}'))\n",
        "\n",
        "#using the seaborn library, despining is way easier!\n",
        "sns.despine()\n",
        "plt.show()\n"
      ]
    },
    {
      "cell_type": "code",
      "execution_count": null,
      "id": "136b3098",
      "metadata": {},
      "outputs": [],
      "source": [
        "# visualization one code here"
      ]
    },
    {
      "cell_type": "code",
      "execution_count": null,
      "id": "49095074",
      "metadata": {},
      "outputs": [],
      "source": [
        "# visualization two code here"
      ]
    },
    {
      "cell_type": "code",
      "execution_count": null,
      "id": "ff61fd84",
      "metadata": {},
      "outputs": [],
      "source": [
        "# visualization three code here"
      ]
    },
    {
      "cell_type": "code",
      "execution_count": null,
      "id": "a074b98e",
      "metadata": {},
      "outputs": [],
      "source": [
        "# visualization four code here"
      ]
    }
  ],
  "metadata": {
    "kernelspec": {
      "display_name": "Python 3",
      "language": "python",
      "name": "python3"
    },
    "language_info": {
      "codemirror_mode": {
        "name": "ipython",
        "version": 3
      },
      "file_extension": ".py",
      "mimetype": "text/x-python",
      "name": "python",
      "nbconvert_exporter": "python",
      "pygments_lexer": "ipython3",
      "version": "3.13.5"
    }
  },
  "nbformat": 4,
  "nbformat_minor": 5
}
